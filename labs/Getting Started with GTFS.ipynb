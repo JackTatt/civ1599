{
 "cells": [
  {
   "cell_type": "markdown",
   "metadata": {},
   "source": [
    "# Discovering and Analysing GTFS\n",
    "\n",
    "## Lab Goals\n",
    "In this lab you will explore one of the most common data formats in public transit: General Transit Feed Specification (GTFS). Specifcally, we will be looking at a static GTFS feed from Calgary, Canada to calculate some basic attributes about the system and learn how this data source is structured. By the end of this lab you should be able to:\n",
    "\n",
    "* Read in multiple tables from a provided GTFS source and join them together where necessary.\n",
    "* Convert the \"time\" portions of a GTFS feed into something useful for temporal analysis.\n",
    "* Answer some questions about basic system characteristics based on your calculations.\n",
    "\n",
    "You can find a helpful reference for GTFS-static at [GTFS.org](https://gtfs.org/reference/static).\n",
    "\n",
    "## Reading and Exploring Files\n",
    "\n",
    "Let's start by reading in the folders and learning a little bit about how our data is structured.\n"
   ]
  },
  {
   "cell_type": "code",
   "execution_count": 1,
   "metadata": {},
   "outputs": [],
   "source": [
    "import os\n",
    "import pandas as pd\n",
    "import datetime as dt\n",
    "\n",
    "data_dir = \"../data/calgary_gtfs_2022-08-17\"\n",
    "\n",
    "# Reading in a bunch of tables so we can explore them.\n",
    "agency = pd.read_csv(os.path.join(data_dir, \"agency.txt\"))\n",
    "calendar = pd.read_csv(os.path.join(data_dir, \"calendar.txt\"))\n",
    "calendar_dates = pd.read_csv(os.path.join(data_dir, \"calendar_dates.txt\"))\n",
    "stops = pd.read_csv(os.path.join(data_dir, \"stops.txt\"))\n",
    "routes = pd.read_csv(os.path.join(data_dir, \"routes.txt\"))\n",
    "trips = pd.read_csv(os.path.join(data_dir, \"trips.txt\"))\n",
    "stop_times = pd.read_csv(os.path.join(data_dir, \"stop_times.txt\"))"
   ]
  },
  {
   "cell_type": "code",
   "execution_count": 8,
   "metadata": {},
   "outputs": [],
   "source": [
    "# Explore the data using this cell"
   ]
  },
  {
   "cell_type": "markdown",
   "metadata": {},
   "source": [
    "### Exercise: How many trips were run on August 15, 2022?"
   ]
  },
  {
   "cell_type": "code",
   "execution_count": null,
   "metadata": {},
   "outputs": [],
   "source": [
    "# Let's find the service_ids which fall within the start/end dates and run on a monday.\n",
    "service_ids = calendar[(calendar.start_date >= 20220815) & (calendar.end_date >= 20220815) & (calendar.monday == 1)]\n",
    "service_ids\n",
    "# Now we simply filter the trips that fall into that particular service ID\n",
    "trips[trips.service_id.isin(service_ids.service_id)].shape[0]"
   ]
  },
  {
   "cell_type": "markdown",
   "metadata": {},
   "source": [
    "## Working with times in GTFS\n",
    "\n",
    "There are two particularities with the GTFS when it comes to the way times are managed:\n",
    "* Many operators include trips that run after midnight as part of the previous day's service, and so the GTFS allows for times greater that 24 hours to account for this.\n",
    "* GTFS schedules are designed to be valid for long periods of time without specifying each day. It's important to first filter trips to appropriate service days and to account for any service adjustments using both `calendar.txt` and `calendar_dates.txt`.\n",
    "\n",
    "As an example, let's answer the question: **What was the total span of service on August 24, 2022?**"
   ]
  },
  {
   "cell_type": "code",
   "execution_count": null,
   "metadata": {},
   "outputs": [],
   "source": [
    "base_date = dt.datetime(2022, 8, 28)\n",
    "\n",
    "# Let's convert the datetimes into a specific date\n",
    "stop_times['arrival_dt'] = base_date + pd.to_timedelta(stop_times['arrival_time'])\n",
    "\n",
    "# Now let's get the trips we need for that particular date and filter down.\n",
    "service_ids = calendar[(calendar.start_date >= int(base_date.strftime(\"%Y%m%d\"))) & (calendar.end_date >= int(base_date.strftime(\"%Y%m%d\"))) & (calendar.wednesday == 1)]\n",
    "trip_ids = trips[trips.service_id.isin(service_ids.service_id)]\n",
    "\n",
    "first_trip = stop_times[stop_times.trip_id.isin(trip_ids.trip_id)].arrival_dt.min()\n",
    "last_trip = stop_times[stop_times.trip_id.isin(trip_ids.trip_id)].arrival_dt.max()\n",
    "\n",
    "print(\"First trip:\", first_trip.strftime(\"%b %d at %H:%M:%S\"))\n",
    "print(\"Last trip:\", last_trip.strftime(\"%b %d at %H:%M:%S\"))\n",
    "print(\"Total Service Span:\", last_trip - first_trip)"
   ]
  },
  {
   "cell_type": "markdown",
   "metadata": {},
   "source": [
    "## Exercises\n",
    "* How many trips are scheduled to run on November 11, 2022? \n",
    "* What is the longest length route that Calgary Transit runs?\n",
    "* What is the scheduled average weekday morning peak period headway on routes 1-10 (inclusive)?\n",
    "* What is the service span for routes numbered in the 300s?"
   ]
  },
  {
   "cell_type": "code",
   "execution_count": null,
   "metadata": {},
   "outputs": [],
   "source": []
  }
 ],
 "metadata": {
  "kernelspec": {
   "display_name": "Python 3.10.6 ('civ-1599')",
   "language": "python",
   "name": "python3"
  },
  "language_info": {
   "codemirror_mode": {
    "name": "ipython",
    "version": 3
   },
   "file_extension": ".py",
   "mimetype": "text/x-python",
   "name": "python",
   "nbconvert_exporter": "python",
   "pygments_lexer": "ipython3",
   "version": "3.10.6"
  },
  "orig_nbformat": 4,
  "vscode": {
   "interpreter": {
    "hash": "c25052b311e500ccf8b47a8fbe37161ffd2524f6f13c35993f4b47e48edaf01d"
   }
  }
 },
 "nbformat": 4,
 "nbformat_minor": 2
}
